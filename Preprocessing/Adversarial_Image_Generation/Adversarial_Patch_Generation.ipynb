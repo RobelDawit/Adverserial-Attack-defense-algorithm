{
  "nbformat": 4,
  "nbformat_minor": 0,
  "metadata": {
    "colab": {
      "provenance": []
    },
    "kernelspec": {
      "name": "python3",
      "display_name": "Python 3"
    },
    "language_info": {
      "name": "python"
    }
  },
  "cells": [
    {
      "cell_type": "code",
      "execution_count": null,
      "metadata": {
        "id": "QBhnecHyi4Op"
      },
      "outputs": [],
      "source": [
        "from google.colab import drive\n",
        "drive.mount('/content/drive')\n"
      ]
    },
    {
      "cell_type": "code",
      "source": [
        "!pip install cityscapesscripts"
      ],
      "metadata": {
        "id": "NtyvdnCGi5jc"
      },
      "execution_count": null,
      "outputs": []
    },
    {
      "cell_type": "code",
      "source": [
        "import torch\n",
        "from torchvision import datasets\n",
        "import matplotlib.pyplot as plt"
      ],
      "metadata": {
        "id": "Io3Wgsd8i62S"
      },
      "execution_count": null,
      "outputs": []
    },
    {
      "cell_type": "markdown",
      "source": [
        "## Dataset Download"
      ],
      "metadata": {
        "id": "Cxx9lBOyjHrU"
      }
    },
    {
      "cell_type": "code",
      "source": [
        "'''\n",
        "from cityscapesscripts.download import downloader\n",
        "\n",
        "## providing credentials and looking at packages\n",
        "session = downloader.login()\n",
        "downloader.get_available_packages(session=session)\n",
        "\n",
        "## Getting\n",
        "# 1. 'gtFine_trainvaltest.zip' (contains labels)\n",
        "# 2. 'leftImg8bit_trainvaltest.zip' (contains images)\n",
        "datalist = ['gtFine_trainvaltest.zip','leftImg8bit_trainvaltest.zip']\n",
        "\n",
        "downloader.download_packages(session = session,\n",
        "                             package_names = datalist,\n",
        "                             destination_path='/content/drive/MyDrive/Colab Notebooks/MA_506') ### Need to change for your file directory\n",
        "## cityscape dataset is 11.0+GB\n",
        "\n",
        "## unzipping\n",
        "!unzip '/content/drive/MyDrive/Colab Notebooks/MA_506/gtFine_trainvaltest.zip' -d '/content/drive/MyDrive/Colab Notebooks/MA_506/Cityscapes/'\n",
        "!unzip '/content/drive/MyDrive/Colab Notebooks/MA_506/leftImg8bit_trainvaltest.zip' -d '/content/drive/MyDrive/Colab Notebooks/MA_506/Cityscapes/'\n",
        "'''"
      ],
      "metadata": {
        "id": "FsPzqc6_i8s-"
      },
      "execution_count": null,
      "outputs": []
    },
    {
      "cell_type": "markdown",
      "source": [
        "## Data Loader"
      ],
      "metadata": {
        "id": "gF4a1ThPjF2s"
      }
    },
    {
      "cell_type": "markdown",
      "source": [
        "## Define Model"
      ],
      "metadata": {
        "id": "y1t6KKrejW3K"
      }
    },
    {
      "cell_type": "code",
      "source": [
        "from torchvision.models.segmentation import fcn_resnet50\n",
        "\n",
        "model = fcn_resnet50(pretrained=True) # The patches are created to disrupt the resnet 50 model.\n",
        "model.eval()"
      ],
      "metadata": {
        "id": "eLoz8tzIjWaz"
      },
      "execution_count": null,
      "outputs": []
    },
    {
      "cell_type": "code",
      "source": [
        "import torch\n",
        "from torchvision import transforms, datasets\n",
        "from torchvision.utils import save_image\n",
        "from torch.utils.data import DataLoader, Dataset\n",
        "import torch.nn.functional as F\n",
        "from PIL import Image\n",
        "import os\n",
        "\n",
        "# Set device\n",
        "device = torch.device(\"cuda\" if torch.cuda.is_available() else \"cpu\")\n",
        "\n",
        "# Define paths for images, labels, and saving\n",
        "image_dir = \"/content/drive/MyDrive/Colab Notebooks/MA_506/Cityscapes/Robel_Rotate/Clean Images\"\n",
        "label_dir = \"/content/drive/MyDrive/Colab Notebooks/MA_506/Cityscapes/Robel_Rotate/Labels\"\n",
        "save_dir = '/content/drive/MyDrive/Colab Notebooks/MA_506/Cityscapes/Dirty Images'\n",
        "os.makedirs(save_dir, exist_ok=True)\n",
        "\n",
        "# Transformations\n",
        "image_transform = transforms.Compose([\n",
        "    transforms.Resize((128, 256)),\n",
        "    transforms.ToTensor(),\n",
        "])\n",
        "\n",
        "label_transform = transforms.Compose([\n",
        "    transforms.Resize((128, 256)),\n",
        "    transforms.ToTensor(),\n",
        "    transforms.Lambda(lambda x: x.long()),\n",
        "])\n",
        "\n",
        "# Custom Dataset\n",
        "class CityscapesDataset(Dataset):\n",
        "    def __init__(self, image_dir, label_dir, image_transform=None, label_transform=None):\n",
        "        self.image_dir = image_dir\n",
        "        self.label_dir = label_dir\n",
        "        self.image_transform = image_transform\n",
        "        self.label_transform = label_transform\n",
        "        self.image_filenames = sorted(os.listdir(image_dir))\n",
        "        self.label_filenames = sorted(os.listdir(label_dir))\n",
        "\n",
        "    def __len__(self):\n",
        "        return len(self.image_filenames)\n",
        "\n",
        "    def __getitem__(self, idx):\n",
        "        # Load image and label\n",
        "        image_path = os.path.join(self.image_dir, self.image_filenames[idx])\n",
        "        label_path = os.path.join(self.label_dir, self.label_filenames[idx])\n",
        "\n",
        "        image = Image.open(image_path).convert(\"RGB\")\n",
        "        label = Image.open(label_path)\n",
        "\n",
        "        # Apply transformations\n",
        "        if self.image_transform:\n",
        "            image = self.image_transform(image)\n",
        "        if self.label_transform:\n",
        "            label = self.label_transform(label)\n",
        "\n",
        "        # Get the filename\n",
        "        filename = os.path.basename(image_path)\n",
        "\n",
        "        return image, label, filename\n",
        "\n",
        "# Create dataset and DataLoader\n",
        "dataset = CityscapesDataset(\n",
        "    image_dir=image_dir,\n",
        "    label_dir=label_dir,\n",
        "    image_transform=image_transform,\n",
        "    label_transform=label_transform\n",
        ")\n",
        "batch_size = 1\n",
        "data_loader = DataLoader(dataset, batch_size=batch_size, shuffle=True)\n",
        "\n",
        "# Loop through DataLoader and save perturbed images\n",
        "epsilon = 0.5  # Perturbation strength\n",
        "for batch_idx, (images, labels, filenames) in enumerate(data_loader):\n",
        "    images, labels = images.to(device), labels.to(device)\n",
        "    images.requires_grad = True\n",
        "\n",
        "    # Forward pass through the model\n",
        "    output = model(images)['out']\n",
        "    loss = F.cross_entropy(output, labels.squeeze(1))\n",
        "    model.zero_grad()\n",
        "\n",
        "    # Backward pass to calculate gradients\n",
        "    loss.backward()\n",
        "\n",
        "    # Generate perturbed images\n",
        "    data_grad = images.grad.data\n",
        "    perturbed_images = torch.stack(\n",
        "        [fgsm_attack_patch(images[i], epsilon, data_grad[i]) for i in range(images.size(0))]\n",
        "    )\n",
        "\n",
        "    # Save each perturbed image\n",
        "    for i in range(perturbed_images.size(0)):\n",
        "        original_filename = filenames[i]\n",
        "        save_path = os.path.join(save_dir, f\"corrupt_50_{original_filename}\")\n",
        "        save_image(perturbed_images[i], save_path)\n",
        "        print(f\"Saved perturbed image: {save_path}\")"
      ],
      "metadata": {
        "id": "sivyqhxtjsfS"
      },
      "execution_count": null,
      "outputs": []
    }
  ]
}