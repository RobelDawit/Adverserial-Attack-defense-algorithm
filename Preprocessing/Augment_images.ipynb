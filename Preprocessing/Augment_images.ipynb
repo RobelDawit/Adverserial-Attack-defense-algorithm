{
  "nbformat": 4,
  "nbformat_minor": 0,
  "metadata": {
    "colab": {
      "provenance": [],
      "machine_shape": "hm"
    },
    "kernelspec": {
      "name": "python3",
      "display_name": "Python 3"
    },
    "language_info": {
      "name": "python"
    }
  },
  "cells": [
    {
      "cell_type": "code",
      "source": [
        "from google.colab import drive\n",
        "drive.mount('/content/drive')"
      ],
      "metadata": {
        "colab": {
          "base_uri": "https://localhost:8080/"
        },
        "id": "wuWX4Ph8LYAF",
        "outputId": "554ca359-4bfc-4d4f-e960-e3988e43a341"
      },
      "execution_count": null,
      "outputs": [
        {
          "output_type": "stream",
          "name": "stdout",
          "text": [
            "Mounted at /content/drive\n"
          ]
        }
      ]
    },
    {
      "cell_type": "code",
      "source": [
        "import os\n",
        "from PIL import Image\n",
        "import random\n",
        "import torchvision.transforms.functional as TF\n",
        "\n",
        "# Define directories\n",
        "clean_image_dir = \"/content/drive/MyDrive/Cityscapes/Final_Dataset/Clean Images\"\n",
        "label_dir = \"/content/drive/MyDrive/Cityscapes/Final_Dataset/Labels\"\n",
        "\n",
        "# Augmentation function (90 and 180-degree rotations only)\n",
        "def augment(image, label):\n",
        "    \"\"\"\n",
        "    Apply a random rotation (90 or 180 degrees) to the image and label.\n",
        "    \"\"\"\n",
        "    operation = random.choice([\"rotate_90\", \"rotate_180\"])  # Randomly choose rotation type\n",
        "\n",
        "    if operation == \"rotate_90\":\n",
        "        # Rotate 90 degrees counterclockwise\n",
        "        image = TF.rotate(image, angle=90)\n",
        "        label = TF.rotate(label, angle=90)\n",
        "    elif operation == \"rotate_180\":\n",
        "        # Rotate 180 degrees\n",
        "        image = TF.rotate(image, angle=180)\n",
        "        label = TF.rotate(label, angle=180)\n",
        "\n",
        "    return image, label\n",
        "\n",
        "# Loop through the images and labels\n",
        "image_files = sorted([f for f in os.listdir(clean_image_dir) if not f.startswith(\"aug_\")])\n",
        "label_files = sorted([f for f in os.listdir(label_dir) if not f.startswith(\"aug_\")])\n",
        "\n",
        "for img_file, lbl_file in zip(image_files, label_files):\n",
        "    # Ensure file paths\n",
        "    img_path = os.path.join(clean_image_dir, img_file)\n",
        "    lbl_path = os.path.join(label_dir, lbl_file)\n",
        "\n",
        "    # Open image and label\n",
        "    image = Image.open(img_path).convert(\"RGB\")\n",
        "    label = Image.open(lbl_path)\n",
        "\n",
        "    # Apply augmentation\n",
        "    augmented_image, augmented_label = augment(image, label)\n",
        "\n",
        "    # Save augmented files with \"aug_\" prefix in the same directories\n",
        "    img_aug_path = os.path.join(clean_image_dir, f\"aug_{img_file}\")\n",
        "    lbl_aug_path = os.path.join(label_dir, f\"aug_{lbl_file}\")\n",
        "\n",
        "    augmented_image.save(img_aug_path)\n",
        "    augmented_label.save(lbl_aug_path)\n",
        "\n",
        "print(\"Augmentation complete! Augmented images and labels saved in the same directories with 'aug_' prefix.\")\n"
      ],
      "metadata": {
        "id": "xK6vRNrlXrRA",
        "colab": {
          "base_uri": "https://localhost:8080/"
        },
        "outputId": "9c5bb983-81bb-40bf-af9f-f844f7344121"
      },
      "execution_count": null,
      "outputs": [
        {
          "output_type": "stream",
          "name": "stdout",
          "text": [
            "Augmentation complete! Augmented images and labels saved in the same directories with 'aug_' prefix.\n"
          ]
        }
      ]
    },
    {
      "cell_type": "code",
      "source": [
        "print(f\"number of new images {len(os.listdir(clean_image_dir))}\")\n",
        "print(f\"number of new labels {len(os.listdir(label_dir))}\")"
      ],
      "metadata": {
        "id": "XyuFyfZZ2puN"
      },
      "execution_count": null,
      "outputs": []
    }
  ]
}